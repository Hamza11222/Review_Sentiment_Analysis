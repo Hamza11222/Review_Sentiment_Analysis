{
 "cells": [
  {
   "cell_type": "code",
   "execution_count": 52,
   "metadata": {},
   "outputs": [
    {
     "data": {
      "text/html": [
       "<div>\n",
       "<style scoped>\n",
       "    .dataframe tbody tr th:only-of-type {\n",
       "        vertical-align: middle;\n",
       "    }\n",
       "\n",
       "    .dataframe tbody tr th {\n",
       "        vertical-align: top;\n",
       "    }\n",
       "\n",
       "    .dataframe thead th {\n",
       "        text-align: right;\n",
       "    }\n",
       "</style>\n",
       "<table border=\"1\" class=\"dataframe\">\n",
       "  <thead>\n",
       "    <tr style=\"text-align: right;\">\n",
       "      <th></th>\n",
       "      <th>id</th>\n",
       "      <th>sentiment</th>\n",
       "      <th>review</th>\n",
       "    </tr>\n",
       "  </thead>\n",
       "  <tbody>\n",
       "    <tr>\n",
       "      <th>0</th>\n",
       "      <td>5814_8</td>\n",
       "      <td>1</td>\n",
       "      <td>With all this stuff going down at the moment w...</td>\n",
       "    </tr>\n",
       "    <tr>\n",
       "      <th>1</th>\n",
       "      <td>2381_9</td>\n",
       "      <td>1</td>\n",
       "      <td>\\The Classic War of the Worlds\\\" by Timothy Hi...</td>\n",
       "    </tr>\n",
       "    <tr>\n",
       "      <th>2</th>\n",
       "      <td>7759_3</td>\n",
       "      <td>0</td>\n",
       "      <td>The film starts with a manager (Nicholas Bell)...</td>\n",
       "    </tr>\n",
       "    <tr>\n",
       "      <th>3</th>\n",
       "      <td>3630_4</td>\n",
       "      <td>0</td>\n",
       "      <td>It must be assumed that those who praised this...</td>\n",
       "    </tr>\n",
       "    <tr>\n",
       "      <th>4</th>\n",
       "      <td>9495_8</td>\n",
       "      <td>1</td>\n",
       "      <td>Superbly trashy and wondrously unpretentious 8...</td>\n",
       "    </tr>\n",
       "    <tr>\n",
       "      <th>5</th>\n",
       "      <td>8196_8</td>\n",
       "      <td>1</td>\n",
       "      <td>I dont know why people think this is such a ba...</td>\n",
       "    </tr>\n",
       "    <tr>\n",
       "      <th>6</th>\n",
       "      <td>7166_2</td>\n",
       "      <td>0</td>\n",
       "      <td>This movie could have been very good, but come...</td>\n",
       "    </tr>\n",
       "    <tr>\n",
       "      <th>7</th>\n",
       "      <td>10633_1</td>\n",
       "      <td>0</td>\n",
       "      <td>I watched this video at a friend's house. I'm ...</td>\n",
       "    </tr>\n",
       "    <tr>\n",
       "      <th>8</th>\n",
       "      <td>319_1</td>\n",
       "      <td>0</td>\n",
       "      <td>A friend of mine bought this film for ?1, and ...</td>\n",
       "    </tr>\n",
       "    <tr>\n",
       "      <th>9</th>\n",
       "      <td>8713_10</td>\n",
       "      <td>1</td>\n",
       "      <td>&lt;br /&gt;&lt;br /&gt;This movie is full of references. ...</td>\n",
       "    </tr>\n",
       "  </tbody>\n",
       "</table>\n",
       "</div>"
      ],
      "text/plain": [
       "        id  sentiment                                             review\n",
       "0   5814_8          1  With all this stuff going down at the moment w...\n",
       "1   2381_9          1  \\The Classic War of the Worlds\\\" by Timothy Hi...\n",
       "2   7759_3          0  The film starts with a manager (Nicholas Bell)...\n",
       "3   3630_4          0  It must be assumed that those who praised this...\n",
       "4   9495_8          1  Superbly trashy and wondrously unpretentious 8...\n",
       "5   8196_8          1  I dont know why people think this is such a ba...\n",
       "6   7166_2          0  This movie could have been very good, but come...\n",
       "7  10633_1          0  I watched this video at a friend's house. I'm ...\n",
       "8    319_1          0  A friend of mine bought this film for ?1, and ...\n",
       "9  8713_10          1  <br /><br />This movie is full of references. ..."
      ]
     },
     "execution_count": 52,
     "metadata": {},
     "output_type": "execute_result"
    }
   ],
   "source": [
    "import numpy as np\n",
    "import pandas as pd\n",
    "from sklearn.feature_extraction.text import CountVectorizer\n",
    "from sklearn.model_selection import train_test_split\n",
    "from sklearn.naive_bayes import BernoulliNB\n",
    "from sklearn.metrics import classification_report\n",
    "from sklearn.naive_bayes import MultinomialNB\n",
    "from sklearn.feature_extraction.text import TfidfVectorizer\n",
    "\n",
    "df = pd.read_csv('Question2Dataset.csv')\n",
    "df.head(10)\n"
   ]
  },
  {
   "cell_type": "code",
   "execution_count": 53,
   "metadata": {},
   "outputs": [
    {
     "name": "stdout",
     "output_type": "stream",
     "text": [
      "(18750, 74608)\n",
      "(6250, 74608)\n"
     ]
    }
   ],
   "source": [
    "vectorizer = CountVectorizer(binary=True)\n",
    "vectorizer.fit(df.review)\n",
    "len(vectorizer.vocabulary_)\n",
    "df_train, df_test = train_test_split(df, test_size=0.25, shuffle=True)\n",
    "X_train = vectorizer.transform(df_train.review)\n",
    "X_test = vectorizer.transform(df_test.review)\n",
    "print(X_train.shape)\n",
    "print(X_test.shape)"
   ]
  },
  {
   "cell_type": "code",
   "execution_count": 54,
   "metadata": {},
   "outputs": [
    {
     "name": "stdout",
     "output_type": "stream",
     "text": [
      " - review: be have br as not on movie was with for but that in is it this to of and the\n",
      " + review: movie not film one br was on as but with for that it this in is to of and the\n"
     ]
    }
   ],
   "source": [
    "#BernoulliNB\n",
    "clf = BernoulliNB().fit(X_train, df_train.sentiment)\n",
    "np.exp(clf.class_log_prior_)\n",
    "def top_20(classifier, vectorizer, categories=(' - review', ' + review')):\n",
    "    feature_names = np.asarray(vectorizer.get_feature_names())\n",
    "    for i, category in enumerate(categories):\n",
    "        top10 = np.argsort(classifier.feature_log_prob_[i])[-20:]\n",
    "        print(\"%s: %s\" % (category, \" \".join(feature_names[top10])))\n",
    "\n",
    "top_20(clf, vectorizer)"
   ]
  },
  {
   "cell_type": "code",
   "execution_count": 55,
   "metadata": {},
   "outputs": [
    {
     "name": "stdout",
     "output_type": "stream",
     "text": [
      "              precision    recall  f1-score   support\n",
      "\n",
      "           0       0.88      0.95      0.91      9304\n",
      "           1       0.94      0.88      0.91      9446\n",
      "\n",
      "    accuracy                           0.91     18750\n",
      "   macro avg       0.91      0.91      0.91     18750\n",
      "weighted avg       0.91      0.91      0.91     18750\n",
      "\n"
     ]
    }
   ],
   "source": [
    "predicts = clf.predict(X_train)\n",
    "print(classification_report(df_train.sentiment, predicts))"
   ]
  },
  {
   "cell_type": "code",
   "execution_count": 56,
   "metadata": {},
   "outputs": [],
   "source": [
    "count_vect = CountVectorizer(binary=False).fit(df.review)\n",
    "X_train_counts = count_vect.transform(df_train.review)\n",
    "X_test_counts = count_vect.transform(df_test.review)"
   ]
  },
  {
   "cell_type": "code",
   "execution_count": 72,
   "metadata": {},
   "outputs": [
    {
     "name": "stdout",
     "output_type": "stream",
     "text": [
      "{'10': 1, 'adventure': 1, 'alter': 1, 'altered': 1, 'apprehension': 1, 'bean': 1, 'better': 2, 'br': 2, 'brief': 1, 'commanding': 1, 'conclusion': 1, 'contrast': 1, 'cornwell': 1, 'costumes': 1, 'cowed': 1, 'despite': 1, 'determined': 1, 'drawn': 1, 'ego': 1, 'enjoyed': 1, 'flat': 1, 'great': 1, 'intelligent': 1, 'later': 1, 'literary': 1, 'locations': 1, 'muddled': 1, 'narrowly': 1, 'new': 1, 'novel': 1, 'officer': 4, 'pause': 1, 'photography': 1, 'piercing': 1, 'plot': 2, 'promoted': 1, 'pushes': 1, 'quick': 1, 'ranks': 1, 'rating': 1, 'read': 1, 'real': 1, 'really': 1, 'right': 1, 'role': 1, 'scene': 1, 'sean': 1, 'sets': 1, 'sharpe': 2, 'somewhat': 1, 'stare': 1, 'substantially': 1, 'surprised': 1, 'tone': 1, 'trials': 1, 'tripped': 1, 'unfortunately': 1, 'watched': 1}\n"
     ]
    }
   ],
   "source": [
    "print(dict(zip(count_vect.inverse_transform(X_train_counts[0])[0], X_train_counts[0].data)))\n"
   ]
  },
  {
   "cell_type": "code",
   "execution_count": 58,
   "metadata": {},
   "outputs": [
    {
     "name": "stdout",
     "output_type": "stream",
     "text": [
      "----------------------------------Train-----------------------------\n",
      "              precision    recall  f1-score   support\n",
      "\n",
      "           0       0.88      0.94      0.91      9304\n",
      "           1       0.94      0.87      0.90      9446\n",
      "\n",
      "    accuracy                           0.91     18750\n",
      "   macro avg       0.91      0.91      0.91     18750\n",
      "weighted avg       0.91      0.91      0.91     18750\n",
      "\n",
      "----------------------------------Test-----------------------------\n",
      "              precision    recall  f1-score   support\n",
      "\n",
      "           0       0.83      0.87      0.85      3196\n",
      "           1       0.86      0.82      0.84      3054\n",
      "\n",
      "    accuracy                           0.84      6250\n",
      "   macro avg       0.85      0.84      0.84      6250\n",
      "weighted avg       0.85      0.84      0.84      6250\n",
      "\n"
     ]
    }
   ],
   "source": [
    "#MultinomialNB\n",
    "\n",
    "clf = MultinomialNB().fit(X_train_counts, df_train.sentiment)\n",
    "predicts = clf.predict(X_train_counts)\n",
    "print('----------------------------------Train-----------------------------')\n",
    "print(classification_report(df_train.sentiment, predicts))\n",
    "X_test_counts = count_vect.transform(df_test.review)\n",
    "predicts = clf.predict(X_test_counts)\n",
    "print('----------------------------------Test-----------------------------')\n",
    "print(classification_report(df_test.sentiment, predicts))"
   ]
  },
  {
   "cell_type": "code",
   "execution_count": 59,
   "metadata": {},
   "outputs": [
    {
     "name": "stdout",
     "output_type": "stream",
     "text": [
      " - review: not on you film as with but for movie was that this in it is br to of and the\n",
      " + review: you on his movie but film was for with as this that it br in is to of and the\n"
     ]
    }
   ],
   "source": [
    "top_20(clf, count_vect)"
   ]
  },
  {
   "cell_type": "code",
   "execution_count": 60,
   "metadata": {},
   "outputs": [
    {
     "name": "stdout",
     "output_type": "stream",
     "text": [
      "              precision    recall  f1-score   support\n",
      "\n",
      "           0       0.85      0.87      0.86      3196\n",
      "           1       0.86      0.84      0.85      3054\n",
      "\n",
      "    accuracy                           0.85      6250\n",
      "   macro avg       0.85      0.85      0.85      6250\n",
      "weighted avg       0.85      0.85      0.85      6250\n",
      "\n"
     ]
    }
   ],
   "source": [
    "\n",
    "count_vect = CountVectorizer(stop_words='english', binary=False).fit(df.review)\n",
    "X_train_counts = count_vect.transform(df_train.review)\n",
    "X_test_counts = count_vect.transform(df_test.review)\n",
    "clf = MultinomialNB().fit(X_train_counts, df_train.sentiment)\n",
    "predicts = clf.predict(X_test_counts)\n",
    "print(classification_report(df_test.sentiment, predicts))"
   ]
  },
  {
   "cell_type": "code",
   "execution_count": 61,
   "metadata": {},
   "outputs": [
    {
     "name": "stdout",
     "output_type": "stream",
     "text": [
      " - review: character characters think way movies acting plot make people story don really time good bad just like film movie br\n",
      " + review: character characters movies think films way life best love people really great time story just good like movie film br\n"
     ]
    }
   ],
   "source": [
    "top_20(clf, count_vect)"
   ]
  },
  {
   "cell_type": "code",
   "execution_count": 62,
   "metadata": {},
   "outputs": [
    {
     "data": {
      "text/plain": [
       "array(['really', 'great', 'scene', 'real', '10', 'new', 'br', 'right',\n",
       "       'role', 'watched', 'later', 'read', 'unfortunately', 'despite',\n",
       "       'enjoyed', 'somewhat', 'rating', 'sets', 'surprised', 'novel',\n",
       "       'flat', 'intelligent', 'conclusion', 'tone', 'adventure', 'drawn',\n",
       "       'costumes', 'photography', 'brief', 'plot', 'quick', 'better',\n",
       "       'locations', 'contrast', 'sean', 'determined', 'ego', 'ranks',\n",
       "       'muddled', 'literary', 'trials', 'stare', 'promoted', 'alter',\n",
       "       'altered', 'pause', 'pushes', 'commanding', 'bean', 'piercing',\n",
       "       'narrowly', 'substantially', 'tripped', 'apprehension', 'cornwell',\n",
       "       'cowed', 'sharpe', 'officer'], dtype='<U66')"
      ]
     },
     "execution_count": 62,
     "metadata": {},
     "output_type": "execute_result"
    }
   ],
   "source": [
    "\n",
    "vectorizer = TfidfVectorizer(stop_words='english')\n",
    "vectorizer = vectorizer.fit(df.review)\n",
    "X_train_vectors = vectorizer.transform(df_train.review)\n",
    "X_test_vectors = vectorizer.transform(df_test.review)\n",
    "vectorizer.inverse_transform(X_train_vectors[0])[0][np.argsort(X_train_vectors[0].data)]"
   ]
  },
  {
   "cell_type": "code",
   "execution_count": 63,
   "metadata": {},
   "outputs": [
    {
     "name": "stdout",
     "output_type": "stream",
     "text": [
      " - review: better think watch worst make people movies story plot acting time don really good like just bad film movie br\n",
      " + review: films way seen think watch movies life people best love really time just story like good great film movie br\n"
     ]
    }
   ],
   "source": [
    "clf = MultinomialNB().fit(X_train_vectors, df_train.sentiment)\n",
    "top_20(clf, vectorizer)"
   ]
  },
  {
   "cell_type": "code",
   "execution_count": 64,
   "metadata": {},
   "outputs": [
    {
     "name": "stdout",
     "output_type": "stream",
     "text": [
      "----------------------------------Train-----------------------------\n",
      "              precision    recall  f1-score   support\n",
      "\n",
      "           0       0.91      0.93      0.92      9304\n",
      "           1       0.93      0.91      0.92      9446\n",
      "\n",
      "    accuracy                           0.92     18750\n",
      "   macro avg       0.92      0.92      0.92     18750\n",
      "weighted avg       0.92      0.92      0.92     18750\n",
      "\n",
      "----------------------------------Tet-----------------------------\n",
      "              precision    recall  f1-score   support\n",
      "\n",
      "           0       0.87      0.86      0.86      3196\n",
      "           1       0.85      0.87      0.86      3054\n",
      "\n",
      "    accuracy                           0.86      6250\n",
      "   macro avg       0.86      0.86      0.86      6250\n",
      "weighted avg       0.86      0.86      0.86      6250\n",
      "\n"
     ]
    }
   ],
   "source": [
    "predicts = clf.predict(X_train_vectors)\n",
    "print('----------------------------------Train-----------------------------')\n",
    "print(classification_report(df_train.sentiment, predicts))\n",
    "X_test_vectors = vectorizer.transform(df_test.review)\n",
    "predicts = clf.predict(X_test_vectors)\n",
    "print('----------------------------------Tet-----------------------------')\n",
    "print(classification_report(df_test.sentiment, predicts))"
   ]
  },
  {
   "cell_type": "code",
   "execution_count": 69,
   "metadata": {},
   "outputs": [
    {
     "data": {
      "text/plain": [
       "array(['br br', 'really', 'great', 'scene', 'real', '10', 'new', 'br',\n",
       "       'right', 'role', 'watched', 'later', 'read', 'unfortunately',\n",
       "       'despite', 'enjoyed', 'somewhat', 'rating', 'sets', 'surprised',\n",
       "       'novel', 'flat', 'intelligent', 'conclusion', 'tone', 'adventure',\n",
       "       'drawn', 'costumes', 'photography', 'brief', 'plot', 'quick',\n",
       "       'better', 'locations', 'contrast', 'sean', 'determined',\n",
       "       'really enjoyed', 'rating 10', 'br rating', 'ego', 'ranks',\n",
       "       'muddled', 'literary', 'trials', 'stare', 'promoted', 'alter',\n",
       "       'altered', 'pause', 'pushes', 'commanding', 'bean', 'alter ego',\n",
       "       'piercing', 'sets tone', 'plot somewhat', 'narrowly',\n",
       "       'brief scene', 'commanding officer', 'substantially', 'tripped',\n",
       "       'apprehension', 'great photography', 'sean bean', 'better read',\n",
       "       'read watched', 'locations costumes', 'new role', 'flat plot',\n",
       "       'better unfortunately', 'officer br', 'adventure better', 'cowed',\n",
       "       'cornwell', 'costumes plot', 'right sets', 'piercing stare',\n",
       "       'novel better', 'determined despite', 'cowed officer',\n",
       "       'bean great', 'apprehension new', 'cornwell novel',\n",
       "       'conclusion flat', 'altered cornwell', 'despite apprehension',\n",
       "       'contrast literary', 'watched sharpe', 'ego intelligent',\n",
       "       'unfortunately adventure', 'tripped real', 'trials commanding',\n",
       "       'tone later', 'surprised cowed', 'substantially altered',\n",
       "       'stare pushes', 'somewhat muddled', 'sharpe tripped',\n",
       "       'sharpe narrowly', 'scene sharpe', 'role officer', 'real officer',\n",
       "       'drawn contrast', 'ranks really', 'pushes surprised',\n",
       "       'enjoyed brief', 'intelligent determined', 'later trials',\n",
       "       'literary alter', 'muddled conclusion', 'narrowly drawn',\n",
       "       'quick pause', 'officer promoted', 'officer right',\n",
       "       'pause piercing', 'photography locations', 'plot substantially',\n",
       "       'promoted ranks', 'officer quick', 'sharpe', 'officer'],\n",
       "      dtype='<U69')"
      ]
     },
     "execution_count": 69,
     "metadata": {},
     "output_type": "execute_result"
    }
   ],
   "source": [
    "vectorizer = TfidfVectorizer(stop_words='english', ngram_range=(1, 2)).fit(df.review)\n",
    "\n",
    "X_train_vectors = vectorizer.transform(df_train.review)\n",
    "X_test_vectors = vectorizer.transform(df_test.review)\n",
    "vectorizer.inverse_transform(X_train_vectors[0])[0][np.argsort(X_train_vectors[0].data)]\n"
   ]
  },
  {
   "cell_type": "code",
   "execution_count": 66,
   "metadata": {},
   "outputs": [],
   "source": [
    "clf = MultinomialNB().fit(X_train_vectors, df_train.sentiment)"
   ]
  },
  {
   "cell_type": "code",
   "execution_count": 68,
   "metadata": {},
   "outputs": [
    {
     "name": "stdout",
     "output_type": "stream",
     "text": [
      "----------------------------------Train-----------------------------\n",
      "              precision    recall  f1-score   support\n",
      "\n",
      "           0       0.99      0.99      0.99      9304\n",
      "           1       0.99      0.99      0.99      9446\n",
      "\n",
      "    accuracy                           0.99     18750\n",
      "   macro avg       0.99      0.99      0.99     18750\n",
      "weighted avg       0.99      0.99      0.99     18750\n",
      "\n",
      "----------------------------------Tet-----------------------------\n",
      "              precision    recall  f1-score   support\n",
      "\n",
      "           0       0.89      0.86      0.88      3196\n",
      "           1       0.86      0.89      0.87      3054\n",
      "\n",
      "    accuracy                           0.87      6250\n",
      "   macro avg       0.87      0.88      0.87      6250\n",
      "weighted avg       0.88      0.87      0.87      6250\n",
      "\n"
     ]
    }
   ],
   "source": [
    "predicts = clf.predict(X_train_vectors)\n",
    "print('----------------------------------Train-----------------------------')\n",
    "print(classification_report(df_train.sentiment, predicts))\n",
    "X_test_vectors = vectorizer.transform(df_test.review)\n",
    "predicts = clf.predict(X_test_vectors)\n",
    "print('----------------------------------Tet-----------------------------')\n",
    "print(classification_report(df_test.sentiment, predicts))"
   ]
  },
  {
   "cell_type": "code",
   "execution_count": null,
   "metadata": {},
   "outputs": [],
   "source": [
    "\n",
    "predicted = clf.predict(vectorizer.transform(df_test.review))\n",
    "\n",
    "pd.DataFrame({'Predicted': predicted}).to_csv('solution.csv', index_label='Id')"
   ]
  },
  {
   "cell_type": "code",
   "execution_count": null,
   "metadata": {},
   "outputs": [],
   "source": []
  },
  {
   "cell_type": "code",
   "execution_count": null,
   "metadata": {},
   "outputs": [],
   "source": []
  }
 ],
 "metadata": {
  "kernelspec": {
   "display_name": "Python 3",
   "language": "python",
   "name": "python3"
  },
  "language_info": {
   "codemirror_mode": {
    "name": "ipython",
    "version": 3
   },
   "file_extension": ".py",
   "mimetype": "text/x-python",
   "name": "python",
   "nbconvert_exporter": "python",
   "pygments_lexer": "ipython3",
   "version": "3.8.8"
  }
 },
 "nbformat": 4,
 "nbformat_minor": 4
}
